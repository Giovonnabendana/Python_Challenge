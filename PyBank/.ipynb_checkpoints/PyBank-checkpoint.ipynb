{
 "cells": [
  {
   "cell_type": "code",
   "execution_count": 27,
   "id": "ecd33275",
   "metadata": {},
   "outputs": [
    {
     "name": "stdout",
     "output_type": "stream",
     "text": [
      "1088983\n",
      "Financial Analysis\n",
      "---------------------------\n",
      "Total Months: 85\n"
     ]
    }
   ],
   "source": [
    " #Dependencies\n",
    "import csv\n",
    "import os\n",
    "\n",
    "\n",
    "#file to load and output\n",
    "\n",
    "\n",
    "file_to_load = os.path.join(\".\",\"Resources\", \"budget_data.csv\")\n",
    "\n",
    "file_to_output = os.path.join(\".\", \"budget_analysis.txt\")\n",
    "\n",
    "total_months = 0\n",
    "\n",
    "\n",
    "#read the csv and convert it inot a list of dictionaries\n",
    "with open(file_to_load) as financial_data:\n",
    "    reader = csv.reader(financial_data)\n",
    "    \n",
    "    # read  the header row\n",
    "    header = next(reader)\n",
    "    \n",
    "    #print(f\"Header: {header}\")\n",
    "    first_row = next(reader)\n",
    "    print(int(first_row[1]))\n",
    "    #total_net += first_row[1]\n",
    "    \n",
    "    \n",
    "    for row in reader:\n",
    "        total_months += 1\n",
    "    \n",
    "        #print(row)\n",
    "\n",
    "output = (\n",
    "    f\"Financial Analysis\\n\"\n",
    "    f\"---------------------------\\n\"\n",
    "    f\"Total Months: {total_months}\"\n",
    ")\n",
    " \n",
    "print(output)\n",
    "\n",
    "\n",
    "\n",
    "\n",
    "\n"
   ]
  },
  {
   "cell_type": "code",
   "execution_count": null,
   "id": "385de503",
   "metadata": {},
   "outputs": [],
   "source": []
  },
  {
   "cell_type": "code",
   "execution_count": null,
   "id": "6cc0cf8e",
   "metadata": {},
   "outputs": [],
   "source": []
  },
  {
   "cell_type": "code",
   "execution_count": null,
   "id": "f291a0c6",
   "metadata": {},
   "outputs": [],
   "source": []
  }
 ],
 "metadata": {
  "kernelspec": {
   "display_name": "Python 3 (ipykernel)",
   "language": "python",
   "name": "python3"
  },
  "language_info": {
   "codemirror_mode": {
    "name": "ipython",
    "version": 3
   },
   "file_extension": ".py",
   "mimetype": "text/x-python",
   "name": "python",
   "nbconvert_exporter": "python",
   "pygments_lexer": "ipython3",
   "version": "3.11.4"
  }
 },
 "nbformat": 4,
 "nbformat_minor": 5
}
